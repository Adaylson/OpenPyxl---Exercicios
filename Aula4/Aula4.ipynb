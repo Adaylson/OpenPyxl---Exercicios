{
 "cells": [
  {
   "cell_type": "markdown",
   "metadata": {},
   "source": [
    "# Copiando Planilhas do Excel"
   ]
  },
  {
   "cell_type": "code",
   "execution_count": 6,
   "metadata": {},
   "outputs": [],
   "source": [
    "from openpyxl import load_workbook\n",
    "\n",
    "wb = load_workbook('Só alegria temp.xlsx')\n",
    "\n",
    "mp = wb['Novo nome']\n",
    "\n",
    "mp_copia = wb.copy_worksheet(mp)\n",
    "mp_copia.title = 'Copia'\n",
    "\n",
    "wb.sheetnames #Sempre salva na ultima posição\n",
    "\n",
    "wb.save('Só alegria temp.xlsx')"
   ]
  },
  {
   "cell_type": "markdown",
   "metadata": {},
   "source": [
    "## Criando uma função para fazer o processo automaticamente"
   ]
  },
  {
   "cell_type": "code",
   "execution_count": 7,
   "metadata": {},
   "outputs": [],
   "source": [
    "def Copiando_Planilha(Original, copia):\n",
    "    mp = wb[Original]\n",
    "    nova_copia = wb.copy_worksheet(mp)\n",
    "    nova_copia.title = copia\n",
    "\n",
    "    wb.save('Só alegria temp.xlsx')"
   ]
  },
  {
   "cell_type": "code",
   "execution_count": 9,
   "metadata": {},
   "outputs": [],
   "source": [
    "Copiando_Planilha('Segunda planilha', 'Teste')"
   ]
  }
 ],
 "metadata": {
  "kernelspec": {
   "display_name": "venv",
   "language": "python",
   "name": "python3"
  },
  "language_info": {
   "codemirror_mode": {
    "name": "ipython",
    "version": 3
   },
   "file_extension": ".py",
   "mimetype": "text/x-python",
   "name": "python",
   "nbconvert_exporter": "python",
   "pygments_lexer": "ipython3",
   "version": "3.13.1"
  }
 },
 "nbformat": 4,
 "nbformat_minor": 2
}
